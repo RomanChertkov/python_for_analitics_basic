{
 "cells": [
  {
   "cell_type": "markdown",
   "source": [
    "# Основы языка Python для аналитиков (семинары). Семинар 1"
   ],
   "metadata": {
    "collapsed": false
   }
  },
  {
   "cell_type": "markdown",
   "source": [
    "## Задача 1\n",
    "\n",
    "На складе лежат разные фрукты в разном количестве.\n",
    "\n",
    "Нужно написать функцию, которая на вход принимает любое количество названий фруктов и их количество, а возвращает общее количество фруктов на складе"
   ],
   "metadata": {
    "collapsed": false
   }
  },
  {
   "cell_type": "code",
   "execution_count": 1,
   "outputs": [],
   "source": [
    "def total_fruits_count(**kwargs)->int:\n",
    "    result = 0\n",
    "    for arg in kwargs.values():\n",
    "         result += arg\n",
    "    return result"
   ],
   "metadata": {
    "collapsed": false,
    "ExecuteTime": {
     "start_time": "2023-04-19T21:42:17.088909Z",
     "end_time": "2023-04-19T21:42:17.089747Z"
    }
   }
  },
  {
   "cell_type": "code",
   "execution_count": 2,
   "outputs": [
    {
     "data": {
      "text/plain": "14"
     },
     "execution_count": 2,
     "metadata": {},
     "output_type": "execute_result"
    }
   ],
   "source": [
    "total_fruits_count(apple=5, orange=4, pineapple=3, mango = 2)"
   ],
   "metadata": {
    "collapsed": false,
    "ExecuteTime": {
     "start_time": "2023-04-19T21:42:17.089099Z",
     "end_time": "2023-04-19T21:42:17.106560Z"
    }
   }
  },
  {
   "cell_type": "markdown",
   "source": [
    "## Задача 2\n",
    "\n",
    "Дан список с затратами на рекламу. Но в данных есть ошибки, некоторые затраты имеют отрицательную величину. Удалите такие значения из списка и посчитайте суммарные затраты\n",
    "[100, 125, -90, 345, 655, -1, 0, 200]\n",
    "Используйте list comprehensions"
   ],
   "metadata": {
    "collapsed": false
   }
  },
  {
   "cell_type": "code",
   "execution_count": 3,
   "outputs": [],
   "source": [
    "advertising_cost_data = [100, 125, -90, 345, 655, -1, 0, 200]"
   ],
   "metadata": {
    "collapsed": false,
    "ExecuteTime": {
     "start_time": "2023-04-19T21:42:17.106979Z",
     "end_time": "2023-04-19T21:42:17.148822Z"
    }
   }
  },
  {
   "cell_type": "code",
   "execution_count": 4,
   "outputs": [
    {
     "data": {
      "text/plain": "(1425, [100, 125, 345, 655, 0, 200])"
     },
     "execution_count": 4,
     "metadata": {},
     "output_type": "execute_result"
    }
   ],
   "source": [
    "right_cost_data = [i for i in advertising_cost_data if i >= 0]\n",
    "\n",
    "sum(right_cost_data), right_cost_data"
   ],
   "metadata": {
    "collapsed": false,
    "ExecuteTime": {
     "start_time": "2023-04-19T21:42:17.116684Z",
     "end_time": "2023-04-19T21:42:17.149870Z"
    }
   }
  },
  {
   "cell_type": "markdown",
   "source": [
    "Сумма затрат на рекламу после удаления не верных данных = 1425"
   ],
   "metadata": {
    "collapsed": false
   }
  },
  {
   "cell_type": "markdown",
   "source": [
    "## Задача 3\n",
    "\n",
    "Даны два списка.\n",
    "\n",
    "Дата покупки\n",
    "['2021-09-14', '2021-12-15', '2021-09-08', '2021-12-05', '2021-10-09', '2021-09-30', '2021-12-22', '2021-11-29', '2021-12-24', '2021-11-26', '2021-10-27', '2021-12-18', '2021-11-09', '2021-11-23', '2021-09-27', '2021-10-02', '2021-12-27', '2021-09-20', '2021-12-13', '2021-11-01', '2021-11-09', '2021-12-06', '2021-12-08', '2021-10-09', '2021-10-31', '2021-09-30', '2021-11-09', '2021-12-13', '2021-10-26', '2021-12-09']\n",
    "\n",
    "Суммы покупок по датам\n",
    "[1270, 8413, 9028, 3703, 5739, 4095, 295, 4944, 5723, 3701, 4471, 651, 7037, 4274, 6275, 4988, 6930, 2971, 6592, 2004, 2822, 519, 3406, 2732, 5015, 2008, 316, 6333, 5700, 2887]\n",
    "\n",
    "**3.1 Найдите, какая выручка у компании в ноябре.**\n",
    "Используйте list comprehensions\n",
    "\n",
    "**3.2 Найдите выручку компании в зависимости от месяца.**\n",
    "Для этого напишите функцию, которая на вход принимает список с датами и список с выручкой, а на выходе словарь, где ключи - это месяцы, а значения - это выручка.\n",
    "Используйте аннотирование типов."
   ],
   "metadata": {
    "collapsed": false
   }
  },
  {
   "cell_type": "code",
   "execution_count": 5,
   "outputs": [],
   "source": [
    "# Дата покупки\n",
    "date = ['2021-09-14', '2021-12-15', '2021-09-08', '2021-12-05', '2021-10-09', '2021-09-30', '2021-12-22', '2021-11-29', '2021-12-24', '2021-11-26', '2021-10-27', '2021-12-18', '2021-11-09', '2021-11-23', '2021-09-27', '2021-10-02', '2021-12-27', '2021-09-20', '2021-12-13', '2021-11-01', '2021-11-09', '2021-12-06', '2021-12-08', '2021-10-09', '2021-10-31', '2021-09-30', '2021-11-09', '2021-12-13', '2021-10-26', '2021-12-09']\n"
   ],
   "metadata": {
    "collapsed": false,
    "ExecuteTime": {
     "start_time": "2023-04-19T21:42:17.129708Z",
     "end_time": "2023-04-19T21:42:17.150229Z"
    }
   }
  },
  {
   "cell_type": "code",
   "execution_count": 6,
   "outputs": [],
   "source": [
    "# Суммы покупок по датам\n",
    "sums = [1270, 8413, 9028, 3703, 5739, 4095, 295, 4944, 5723, 3701, 4471, 651, 7037, 4274, 6275, 4988, 6930, 2971, 6592, 2004, 2822, 519, 3406, 2732, 5015, 2008, 316, 6333, 5700, 2887]\n"
   ],
   "metadata": {
    "collapsed": false,
    "ExecuteTime": {
     "start_time": "2023-04-19T21:42:17.140943Z",
     "end_time": "2023-04-19T21:42:17.150536Z"
    }
   }
  },
  {
   "cell_type": "markdown",
   "source": [
    "### 3.1 Решение\n"
   ],
   "metadata": {
    "collapsed": false
   }
  },
  {
   "cell_type": "code",
   "execution_count": 7,
   "outputs": [
    {
     "data": {
      "text/plain": "(30, 30)"
     },
     "execution_count": 7,
     "metadata": {},
     "output_type": "execute_result"
    }
   ],
   "source": [
    "len(date), len(sums)"
   ],
   "metadata": {
    "collapsed": false,
    "ExecuteTime": {
     "start_time": "2023-04-19T21:42:17.152551Z",
     "end_time": "2023-04-19T21:42:17.219807Z"
    }
   }
  },
  {
   "cell_type": "markdown",
   "source": [
    "Размеры списков одинаковывые и равны 30"
   ],
   "metadata": {
    "collapsed": false
   }
  },
  {
   "cell_type": "markdown",
   "source": [],
   "metadata": {
    "collapsed": false
   }
  },
  {
   "cell_type": "code",
   "execution_count": 8,
   "outputs": [
    {
     "data": {
      "text/plain": "(28645,\n {5739: '2021-10-09',\n  4471: '2021-10-27',\n  4988: '2021-10-02',\n  2732: '2021-10-09',\n  5015: '2021-10-31',\n  5700: '2021-10-26'})"
     },
     "execution_count": 8,
     "metadata": {},
     "output_type": "execute_result"
    }
   ],
   "source": [
    "november_date = { sums[i]:date[i]  for i in range(len(date)) if date[i].split('-')[1] == '10' }\n",
    "profit_in_november = sum([ sums[i] for i in range(len(date)) if date[i].split('-')[1] == '10'  ])\n",
    "profit_in_november, november_date"
   ],
   "metadata": {
    "collapsed": false,
    "ExecuteTime": {
     "start_time": "2023-04-19T21:42:17.192942Z",
     "end_time": "2023-04-19T21:42:17.220169Z"
    }
   }
  },
  {
   "cell_type": "markdown",
   "source": [
    "Выручка у компании в ноябре составила 28645"
   ],
   "metadata": {
    "collapsed": false
   }
  },
  {
   "cell_type": "markdown",
   "source": [
    "## 3.2  Решение"
   ],
   "metadata": {
    "collapsed": false
   }
  },
  {
   "cell_type": "code",
   "execution_count": 9,
   "outputs": [],
   "source": [
    "def profit_by_month(date_list:list[str], sums_by_date:list[int])->dict:\n",
    "    temp = {}\n",
    "\n",
    "    for i in range (len(sums_by_date)):\n",
    "        if temp.get(date_list[i]):\n",
    "            val = sums_by_date[i] + temp[date_list[i]]\n",
    "            temp.update({date_list[i]:val})\n",
    "        else:\n",
    "            temp.update({date_list[i]:sums_by_date[i]})\n",
    "\n",
    "    return temp"
   ],
   "metadata": {
    "collapsed": false,
    "ExecuteTime": {
     "start_time": "2023-04-19T21:42:17.193110Z",
     "end_time": "2023-04-19T21:42:17.220303Z"
    }
   }
  },
  {
   "cell_type": "code",
   "execution_count": 10,
   "outputs": [
    {
     "data": {
      "text/plain": "{'2021-09-14': 1270,\n '2021-12-15': 8413,\n '2021-09-08': 9028,\n '2021-12-05': 3703,\n '2021-10-09': 8471,\n '2021-09-30': 6103,\n '2021-12-22': 295,\n '2021-11-29': 4944,\n '2021-12-24': 5723,\n '2021-11-26': 3701,\n '2021-10-27': 4471,\n '2021-12-18': 651,\n '2021-11-09': 10175,\n '2021-11-23': 4274,\n '2021-09-27': 6275,\n '2021-10-02': 4988,\n '2021-12-27': 6930,\n '2021-09-20': 2971,\n '2021-12-13': 12925,\n '2021-11-01': 2004,\n '2021-12-06': 519,\n '2021-12-08': 3406,\n '2021-10-31': 5015,\n '2021-10-26': 5700,\n '2021-12-09': 2887}"
     },
     "execution_count": 10,
     "metadata": {},
     "output_type": "execute_result"
    }
   ],
   "source": [
    "result = profit_by_month(date, sums)\n",
    "result"
   ],
   "metadata": {
    "collapsed": false,
    "ExecuteTime": {
     "start_time": "2023-04-19T21:42:17.193202Z",
     "end_time": "2023-04-19T21:42:17.269238Z"
    }
   }
  }
 ],
 "metadata": {
  "kernelspec": {
   "display_name": "Python 3",
   "language": "python",
   "name": "python3"
  },
  "language_info": {
   "codemirror_mode": {
    "name": "ipython",
    "version": 2
   },
   "file_extension": ".py",
   "mimetype": "text/x-python",
   "name": "python",
   "nbconvert_exporter": "python",
   "pygments_lexer": "ipython2",
   "version": "2.7.6"
  }
 },
 "nbformat": 4,
 "nbformat_minor": 0
}
